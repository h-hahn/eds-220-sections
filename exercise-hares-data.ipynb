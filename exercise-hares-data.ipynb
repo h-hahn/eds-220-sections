{
 "cells": [
  {
   "cell_type": "markdown",
   "id": "7939da53-d6be-4c21-8eba-ce80c8a9e23b",
   "metadata": {},
   "source": [
    "## Week 3 Section"
   ]
  },
  {
   "cell_type": "markdown",
   "id": "c6b92d98-5d10-43e6-a2a6-84aae1989444",
   "metadata": {
    "tags": []
   },
   "source": [
    "Archive Exploration:\n",
    "    \n",
    "This data contains capture/recapture data of snowshoe hares to study the densities of the populations. \n",
    "\n",
    "citation: Kielland, K., F.S. Chapin, R.W. Ruess, and Bonanza Creek LTER. 2017. Snowshoe hare physical data in Bonanza Creek Experimental Forest: 1999-Present ver 22. Environmental Data Initiative. https://doi.org/10.6073/pasta/03dce4856d79b91557d8e6ce2cbcdc14 (Accessed 2023-10-19).\n",
    "    \n",
    "date of access: 10/19/2023\n",
    "\n",
    "link: https://portal.edirepository.org/nis/mapbrowse?packageid=knb-lter-bnz.55.22 \n",
    "\n",
    "![image description](https://upload.wikimedia.org/wikipedia/commons/thumb/8/8a/SNOWSHOE_HARE_%28Lepus_americanus%29_%285-28-2015%29_quoddy_head%2C_washington_co%2C_maine_-01_%2818988734889%29.jpg/1452px-SNOWSHOE_HARE_%28Lepus_americanus%29_%285-28-2015%29_quoddy_head%2C_washington_co%2C_maine_-01_%2818988734889%29.jpg?20170313021652)\n"
   ]
  },
  {
   "cell_type": "code",
   "execution_count": 14,
   "id": "d11824a0-d32f-4047-b02d-222f2e8e2aff",
   "metadata": {
    "tags": []
   },
   "outputs": [],
   "source": [
    "# import pandas\n",
    "import pandas as pd\n",
    "\n",
    "# read in data\n",
    "hares = pd.read_csv(\"https://portal.edirepository.org/nis/dataviewer?packageid=knb-lter-bnz.55.22&entityid=f01f5d71be949b8c700b6ecd1c42c701\")"
   ]
  },
  {
   "cell_type": "code",
   "execution_count": 20,
   "id": "3a352b02-afc6-42ca-a097-b7bc51a40b84",
   "metadata": {
    "tags": []
   },
   "outputs": [
    {
     "data": {
      "text/plain": [
       "array([nan, 'M', 'F', '?', 'F?', 'M?', 'pf', 'm', 'f', 'f?', 'm?', 'f ',\n",
       "       'm '], dtype=object)"
      ]
     },
     "execution_count": 20,
     "metadata": {},
     "output_type": "execute_result"
    }
   ],
   "source": [
    "# number of unique non-NA values\n",
    "hares.sex.value_counts(dropna = False)\n",
    "\n",
    "hares.sex.unique()"
   ]
  }
 ],
 "metadata": {
  "kernelspec": {
   "display_name": "Anaconda 3 (Base)",
   "language": "python",
   "name": "base"
  },
  "language_info": {
   "codemirror_mode": {
    "name": "ipython",
    "version": 3
   },
   "file_extension": ".py",
   "mimetype": "text/x-python",
   "name": "python",
   "nbconvert_exporter": "python",
   "pygments_lexer": "ipython3",
   "version": "3.9.13"
  }
 },
 "nbformat": 4,
 "nbformat_minor": 5
}
